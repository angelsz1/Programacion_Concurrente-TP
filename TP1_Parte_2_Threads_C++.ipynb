{
  "nbformat": 4,
  "nbformat_minor": 0,
  "metadata": {
    "colab": {
      "provenance": [],
      "authorship_tag": "ABX9TyOqh2B4rPNzCOqdBXNEMJ3M"
    },
    "kernelspec": {
      "name": "python3",
      "display_name": "Python 3"
    },
    "language_info": {
      "name": "python"
    }
  },
  "cells": [
    {
      "cell_type": "code",
      "source": [
        "%%writefile threads_matrix_sum.h\n",
        "#ifndef FILENAME_H\n",
        "#define FILENAME_H\n",
        "\n",
        "#define MATRIX_COLUMN_SIZE 5\n",
        "#define MATRIX_ROW_SIZE 5\n",
        "#define MIN_VALUE_RANDOM -32\n",
        "#define MAX_VALUE_RANDOM 32\n",
        "\n",
        "void fill_array_with_random_numbers(short *array, short count);\n",
        "short get_random_number(short min_value, short max_value);\n",
        "\n",
        "void sum_matrix_sequentially(const short *m1, const short *m2, short *m_res, short row_size, short column_size);\n",
        "void sum_matrix_concurrently(const short *m1, const short *m2, short *m_res, short row_size, short column_size);\n",
        "void sum_array(const short *a1, const short *a2, short *a_res, short count);\n",
        "\n",
        "bool compare_matrix(const short *m1, const short *m2, short row_size, short column_size);\n",
        "void show_matrix(const short *matrix, short row_size, short column_size);\n",
        "\n",
        "#endif"
      ],
      "metadata": {
        "colab": {
          "base_uri": "https://localhost:8080/"
        },
        "id": "245IRj3A0DlW",
        "outputId": "80fcbd1e-3122-40d7-9968-fc26886443ef"
      },
      "execution_count": 1,
      "outputs": [
        {
          "output_type": "stream",
          "name": "stdout",
          "text": [
            "Writing threads_matrix_sum.h\n"
          ]
        }
      ]
    },
    {
      "cell_type": "code",
      "execution_count": 2,
      "metadata": {
        "colab": {
          "base_uri": "https://localhost:8080/"
        },
        "id": "Wp0jc7DRzLXh",
        "outputId": "3af52cce-955a-41cf-bd45-dc3f24864e5b"
      },
      "outputs": [
        {
          "output_type": "stream",
          "name": "stdout",
          "text": [
            "Writing threads_matrix_sum.cpp\n"
          ]
        }
      ],
      "source": [
        "%%writefile threads_matrix_sum.cpp\n",
        "#include <iostream>\n",
        "#include <cstdlib> //rand\n",
        "#include <iomanip> //setw\n",
        "#include <thread>\n",
        "#include \"threads_matrix_sum.h\"\n",
        "\n",
        "int main()\n",
        "{\n",
        "    short matrix_A[MATRIX_ROW_SIZE][MATRIX_COLUMN_SIZE];\n",
        "    short matrix_B[MATRIX_ROW_SIZE][MATRIX_COLUMN_SIZE];\n",
        "    short matrix_SC[MATRIX_ROW_SIZE][MATRIX_COLUMN_SIZE];\n",
        "    short matrix_CC[MATRIX_ROW_SIZE][MATRIX_COLUMN_SIZE];\n",
        "\n",
        "    fill_array_with_random_numbers(&matrix_A[0][0], MATRIX_ROW_SIZE * MATRIX_COLUMN_SIZE);\n",
        "    fill_array_with_random_numbers(&matrix_B[0][0], MATRIX_ROW_SIZE * MATRIX_COLUMN_SIZE);\n",
        "\n",
        "    std::cout << std::endl << \"--------------A--------------\" << std::endl;\n",
        "    show_matrix(&matrix_A[0][0], MATRIX_ROW_SIZE, MATRIX_COLUMN_SIZE);\n",
        "\n",
        "    std::cout << std::endl << \"--------------B--------------\" << std::endl;\n",
        "    show_matrix(&matrix_B[0][0], MATRIX_ROW_SIZE, MATRIX_COLUMN_SIZE);\n",
        "\n",
        "    std::cout << std::endl << \"--------------SC--------------\" << std::endl;\n",
        "    sum_matrix_sequentially(&matrix_A[0][0], &matrix_B[0][0], &matrix_SC[0][0], MATRIX_ROW_SIZE, MATRIX_COLUMN_SIZE);\n",
        "    show_matrix(&matrix_SC[0][0], MATRIX_ROW_SIZE, MATRIX_COLUMN_SIZE);\n",
        "\n",
        "    std::cout << std::endl << \"--------------CC--------------\" << std::endl;\n",
        "    sum_matrix_concurrently(&matrix_A[0][0], &matrix_B[0][0], &matrix_CC[0][0], MATRIX_ROW_SIZE, MATRIX_COLUMN_SIZE);\n",
        "    show_matrix(&matrix_CC[0][0], MATRIX_ROW_SIZE, MATRIX_COLUMN_SIZE);\n",
        "\n",
        "    bool is_same_res = compare_matrix(&matrix_SC[0][0], &matrix_CC[0][0], MATRIX_ROW_SIZE, MATRIX_COLUMN_SIZE);\n",
        "    std::cout << (is_same_res ? \"Son iguales\" : \"No son iguales\") << std::endl;\n",
        "\n",
        "    return EXIT_SUCCESS;\n",
        "}\n",
        "\n",
        "void fill_array_with_random_numbers(short *array, short count)\n",
        "{\n",
        "    for (short i = 0; i < count; i++)\n",
        "    {\n",
        "        *array = get_random_number(MIN_VALUE_RANDOM, MAX_VALUE_RANDOM);\n",
        "        array++;\n",
        "    }\n",
        "}\n",
        "\n",
        "short get_random_number(short min_value, short max_value)\n",
        "{\n",
        "    return rand() % (max_value - min_value + 1) + min_value;\n",
        "}\n",
        "\n",
        "void sum_matrix_sequentially(const short *m1, const short *m2, short *m_res, short row_size, short column_size)\n",
        "{\n",
        "    short count = row_size * column_size;\n",
        "    sum_array(m1, m2, m_res, count);\n",
        "}\n",
        "\n",
        "void sum_matrix_concurrently(const short *m1, const short *m2, short *m_res, short row_size, short column_size)\n",
        "{\n",
        "    short threads_quantity = row_size;\n",
        "    std::thread threads[threads_quantity];\n",
        "    short *p1 = (short *)m1;\n",
        "    short *p2 = (short *)m2;\n",
        "\n",
        "    for (short i = 0; i < threads_quantity; i++)\n",
        "    {\n",
        "        short *row_array_1 = p1 + (column_size * i);\n",
        "        short *row_array_2 = p2 + (column_size * i);\n",
        "        short *row_array_res = m_res + (column_size * i);\n",
        "        threads[i] = std::thread(sum_array, row_array_1, row_array_2, row_array_res, column_size);\n",
        "    }\n",
        "\n",
        "    for (short j = 0; j < threads_quantity; j++)\n",
        "    {\n",
        "        threads[j].join();\n",
        "    }\n",
        "}\n",
        "\n",
        "void sum_array(const short *a1, const short *a2, short *a_res, short count)\n",
        "{\n",
        "    for (short i = 0; i < count; i++)\n",
        "    {\n",
        "        *a_res = *a1 + *a2;\n",
        "        a_res++;\n",
        "        a1++;\n",
        "        a2++;\n",
        "    }\n",
        "}\n",
        "\n",
        "bool compare_matrix(const short *m1, const short *m2, short row_size, short column_size)\n",
        "{\n",
        "    short count = row_size * column_size;\n",
        "    bool is_equal = true;\n",
        "    short i = row_size * column_size;\n",
        "\n",
        "    while (is_equal && i > 0)\n",
        "    {\n",
        "        if (*m1 != *m2)\n",
        "        {\n",
        "            is_equal = false;\n",
        "        }\n",
        "        m1++;\n",
        "        m2++;\n",
        "        i--;\n",
        "    }\n",
        "    return is_equal;\n",
        "}\n",
        "\n",
        "void show_matrix(const short *matrix, short row_size, short column_size)\n",
        "{\n",
        "    for (short r = 0; r < row_size; r++)\n",
        "    {\n",
        "        for (short c = 0; c < column_size; c++)\n",
        "        {\n",
        "            std::cout << std::setw(5) << *matrix;\n",
        "            matrix++;\n",
        "        }\n",
        "        std::cout << std::endl;\n",
        "    }\n",
        "}"
      ]
    },
    {
      "cell_type": "code",
      "source": [
        "!g++ threads_matrix_sum.cpp && ./a.out"
      ],
      "metadata": {
        "colab": {
          "base_uri": "https://localhost:8080/"
        },
        "id": "w9Lz45-y0Mi6",
        "outputId": "c70ac860-2bee-4643-c8f2-c9d1a010b94c"
      },
      "execution_count": 3,
      "outputs": [
        {
          "output_type": "stream",
          "name": "stdout",
          "text": [
            "\n",
            "--------------A--------------\n",
            "  -19   29    5   -2   21\n",
            "    8   19   10  -18   14\n",
            "  -30   10  -32  -28    6\n",
            "  -31    3    4   30  -21\n",
            "   14  -24   10   -3   10\n",
            "\n",
            "--------------B--------------\n",
            "  -27  -30  -29   30   -2\n",
            "  -23  -20   -5   16   12\n",
            "  -15   -9   -1   29    5\n",
            "  -18   31  -16  -18  -28\n",
            "   25  -14    7   -2  -17\n",
            "\n",
            "--------------SC--------------\n",
            "  -46   -1  -24   28   19\n",
            "  -15   -1    5   -2   26\n",
            "  -45    1  -33    1   11\n",
            "  -49   34  -12   12  -49\n",
            "   39  -38   17   -5   -7\n",
            "\n",
            "--------------CC--------------\n",
            "  -46   -1  -24   28   19\n",
            "  -15   -1    5   -2   26\n",
            "  -45    1  -33    1   11\n",
            "  -49   34  -12   12  -49\n",
            "   39  -38   17   -5   -7\n",
            "Son iguales\n"
          ]
        }
      ]
    }
  ]
}