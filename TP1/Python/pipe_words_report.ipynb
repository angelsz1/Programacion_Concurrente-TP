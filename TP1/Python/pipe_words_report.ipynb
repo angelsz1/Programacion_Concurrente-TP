{
  "cells": [
    {
      "cell_type": "markdown",
      "source": [
        "# TP1 Parte 3 - Python\n",
        "Comunicación y Sincronismo"
      ],
      "metadata": {
        "id": "dkcgatLbh1dZ"
      }
    },
    {
      "cell_type": "markdown",
      "source": [
        "Si bien se puede ejecutar directamente el código python directamente en lugar de generar el archivo, por motivos de comodidad, generamos el archivo `pipe_words_report.py` ▶.\n",
        "\n",
        "Ya que cada vez que ingresemos una palabra en consola, scrollea para arriba y dificulta el siguiente ingreso por teclado."
      ],
      "metadata": {
        "id": "LFrLqvZmivDl"
      }
    },
    {
      "cell_type": "markdown",
      "source": [
        "### Contenido"
      ],
      "metadata": {
        "id": "VGn6txrCvcNg"
      }
    },
    {
      "cell_type": "code",
      "execution_count": 10,
      "metadata": {
        "id": "s5EA_lZuPHMI",
        "colab": {
          "base_uri": "https://localhost:8080/"
        },
        "outputId": "959d07ce-baf4-4f3e-e862-bec04b5abfda"
      },
      "outputs": [
        {
          "output_type": "stream",
          "name": "stdout",
          "text": [
            "Overwriting pipe_words_report.py\n"
          ]
        }
      ],
      "source": [
        "%%writefile pipe_words_report.py\n",
        "from multiprocessing import Pipe\n",
        "import os\n",
        "import sys\n",
        "\n",
        "CHILD = 0\n",
        "EXIT = 'close'\n",
        "\n",
        "def main():\n",
        "  pipe_child, pipe_parent = Pipe(True) # bidirectional\n",
        "\n",
        "  process = os.fork()\n",
        "  if process < 0:\n",
        "    sys.exit('Error al crear el nuevo proceso')\n",
        "\n",
        "  if process == CHILD:\n",
        "    pipe_parent.close() # not used\n",
        "    tuple_result = receiving_words(pipe_child)\n",
        "    send_result(pipe_child, tuple_result)\n",
        "    pipe_child.close()\n",
        "    os._exit(0) # child finishing\n",
        "  else:\n",
        "    pipe_child.close() # not used\n",
        "    sending_words(pipe_parent)\n",
        "    show_result(pipe_parent)\n",
        "    pipe_parent.close()\n",
        "    os.wait() # wait child\n",
        "\n",
        "def sending_words(sender):\n",
        "  result = ''\n",
        "  finish = False\n",
        "  while not finish:\n",
        "    input_to_send = input('Ingrese:')\n",
        "    if ' ' not in input_to_send:\n",
        "      input_to_send = input_to_send.lower()\n",
        "      finish = EXIT == input_to_send\n",
        "      sender.send(input_to_send)\n",
        "    else:\n",
        "      print('No se admiten espacios.')\n",
        "\n",
        "def receiving_words(receiver):\n",
        "  total_character_count = 0\n",
        "  total_letter_count = 0\n",
        "  total_digit_count = 0\n",
        "\n",
        "  max_length_word = ''\n",
        "  max_length_word_qty = 0\n",
        "\n",
        "  min_length_word = ''\n",
        "  min_length_word_qty = 0\n",
        "\n",
        "  received_input = receiver.recv()\n",
        "\n",
        "  while received_input != EXIT:\n",
        "    character_qty, letter_qty, digit_qty = calculate_qty(received_input)\n",
        "    total_character_count += character_qty\n",
        "    total_letter_count += letter_qty\n",
        "    total_digit_count += digit_qty\n",
        "\n",
        "    if character_qty > max_length_word_qty:\n",
        "      max_length_word_qty = character_qty\n",
        "      max_length_word = received_input\n",
        "\n",
        "    if character_qty < min_length_word_qty or not min_length_word:\n",
        "      min_length_word_qty = character_qty\n",
        "      min_length_word = received_input\n",
        "\n",
        "    received_input = receiver.recv()\n",
        "\n",
        "  return (total_character_count, total_letter_count, total_digit_count,\n",
        "          max_length_word, min_length_word)\n",
        "\n",
        "def calculate_qty(text):\n",
        "  character_qty = len(text)\n",
        "  letter_qty = sum(1 for c in text if c.isalpha())\n",
        "  digit_qty = sum(1 for c in text if c.isdigit())\n",
        "  return character_qty, letter_qty, digit_qty\n",
        "\n",
        "def send_result(sender, tuple_result):\n",
        "  dictionary_result = {\n",
        "    'Cantidad de caracteres totales' : tuple_result[0],\n",
        "    'Cantidad de letras' : tuple_result[1],\n",
        "    'Cantidad de dígitos' : tuple_result[2],\n",
        "    'Palabra de mayor longitud' : tuple_result[3],\n",
        "    'Palabra de menor longitud' : tuple_result[4],\n",
        "  }\n",
        "  sender.send(dictionary_result)\n",
        "\n",
        "def show_result(receiver):\n",
        "  dictionary_result = receiver.recv()\n",
        "  print('-----------------Resultado-----------------')\n",
        "  for name, result in dictionary_result.items():\n",
        "    print(name, \":\", result)\n",
        "\n",
        "if __name__ == '__main__':\n",
        "  main()"
      ]
    },
    {
      "cell_type": "markdown",
      "source": [
        "### Ejecución"
      ],
      "metadata": {
        "id": "FSl78DeFvep6"
      }
    },
    {
      "cell_type": "code",
      "source": [
        "!python pipe_words_report.py"
      ],
      "metadata": {
        "colab": {
          "base_uri": "https://localhost:8080/"
        },
        "id": "p_5_bRH6rsog",
        "outputId": "15ab4895-f73b-49e8-c582-d930bbcfaf57"
      },
      "execution_count": 14,
      "outputs": [
        {
          "output_type": "stream",
          "name": "stdout",
          "text": [
            "Ingrese:uno!\n",
            "Ingrese:0s0\n",
            "Ingrese:calculadora\n",
            "Ingrese:4zul\n",
            "Ingrese:close\n",
            "-----------------Resultado-----------------\n",
            "Cantidad de caracteres totales : 22\n",
            "Cantidad de letras : 18\n",
            "Cantidad de dígitos : 3\n",
            "Palabra de mayor longitud : calculadora\n",
            "Palabra de menor longitud : 0s0\n"
          ]
        }
      ]
    },
    {
      "cell_type": "markdown",
      "source": [
        "### Conclusión"
      ],
      "metadata": {
        "id": "0sMo--Ooxz6J"
      }
    },
    {
      "cell_type": "markdown",
      "source": [
        "Python es un lenguaje mucho más amigable con el programador, poder retornar más de un solo valor (como tupla) y enviar tanto como recibir un diccionario sin preocuparse por el tipo de dato o el tamaño que ocupará resulta sumamente asombroso.\n",
        "Al ser un lenguaje interpretado, la traducción del código fuente a medida que se va ejecutando y demás facilidades como la gestión automática de memoria se entiende que no será lo más optimo pero si mucho más legible y ameno a programar. Recordando que por ejemplo, en C debemos declarar el tamaño de la tranferencia y armar un buffer."
      ],
      "metadata": {
        "id": "ICh_CYidx2vf"
      }
    }
  ],
  "metadata": {
    "colab": {
      "provenance": []
    },
    "kernelspec": {
      "display_name": "Python 3",
      "name": "python3"
    },
    "language_info": {
      "name": "python"
    }
  },
  "nbformat": 4,
  "nbformat_minor": 0
}